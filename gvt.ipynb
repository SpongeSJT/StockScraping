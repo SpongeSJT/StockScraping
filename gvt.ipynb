{
 "cells": [
  {
   "cell_type": "markdown",
   "metadata": {},
   "source": [
    "# Gamestop and Tesla Stock Exercise\n",
    "This project is inspired by the IBM Data Science Professional certification I have completed through Coursera. The course covered Webscraping, so I endeavoured to code up something to show us how the stock prices of these two companies varied during some of their most interesting periods. \n",
    "\n",
    "First, its important to know what \"short selling\" is. Short selling is how you make money if the stock decreases. An investor borrows a stock, sells the stock, and then repurchases it to return it to the lender.  Typically stocks fall faster than they rise, so you can make a profit more quickly. Usually, experienced investors such as hedge funds partake in short selling. One problem is if the stock price increases, the investor can lose money.\n",
    "\n",
    "Gamestop was in dire straits towards the end of 2020, probably as a result of the COVID-19 pandemic. Users of the subreddit /r/Wallstreetbets decided to try game the system, and bought the stock en masse. In doing so, the price of the stock surged due to the extreme demand. This caused billions in losses for hedge fund managers, who has short sold their Gamestop Stock. The event serves as an interesting case study in how the markets can be manipulted through organised efforts, and is a good example of a \"meme stock\". \n",
    "\n",
    "The other company we're looking at here is Tesla, best known for producing electric cars and their controversial billionaire CEO Elon Musk. Tesla was tageted by short sellers a few years back. However, the stocks continued to rise against the fundamental understandings of how the market should work.   "
   ]
  },
  {
   "cell_type": "code",
   "execution_count": 1,
   "metadata": {},
   "outputs": [],
   "source": [
    "#Install Packages\n",
    "!pip -q install pandas==1.3.3\n",
    "!pip -q install requests==2.26.0\n",
    "!pip -q install bs4\n",
    "!pip -q install html5lib==1.1\n",
    "!pip -q install lxml\n",
    "!pip -q install plotly==5.3.1\n",
    "!pip -q install yfinance\n",
    "\n",
    "#Load Packages or Modules\n",
    "import yfinance as yf #This module will help us acquire realtime data\n",
    "import pandas as pd  #Pandas for data manipulation\n",
    "from bs4 import BeautifulSoup # this module helps in web scrapping.\n",
    "import requests  # this module helps us to download a web page\n",
    "import numpy as np\n",
    "import matplotlib.pyplot as plt"
   ]
  },
  {
   "cell_type": "markdown",
   "metadata": {},
   "source": [
    "# Using requests.get() and BeautifulSoup"
   ]
  },
  {
   "cell_type": "markdown",
   "metadata": {},
   "source": [
    "Here we want to get the data from the websites and convert them into text format. We first define objects as the url in string formats. \n",
    "Then we use requests to pull the data from that webpage and save it in text format. "
   ]
  },
  {
   "cell_type": "code",
   "execution_count": null,
   "metadata": {},
   "outputs": [],
   "source": [
    "def make_graph(stock_data, revenue_data, stock):\n",
    "    fig = make_subplots(rows=2, cols=1, shared_xaxes=True, subplot_titles=(\"Historical Share Price\", \"Historical Revenue\"), vertical_spacing = .3)\n",
    "    stock_data_specific = stock_data[stock_data.Date <= '2021--06-14']\n",
    "    revenue_data_specific = revenue_data[revenue_data.Date <= '2021-04-30']\n",
    "    fig.add_trace(go.Scatter(x=pd.to_datetime(stock_data_specific.Date, infer_datetime_format=True), y=stock_data_specific.Close.astype(\"float\"), name=\"Share Price\"), row=1, col=1)\n",
    "    fig.add_trace(go.Scatter(x=pd.to_datetime(revenue_data_specific.Date, infer_datetime_format=True), y=revenue_data_specific.Revenue.astype(\"float\"), name=\"Revenue\"), row=2, col=1)\n",
    "    fig.update_xaxes(title_text=\"Date\", row=1, col=1)\n",
    "    fig.update_xaxes(title_text=\"Date\", row=2, col=1)\n",
    "    fig.update_yaxes(title_text=\"Price ($US)\", row=1, col=1)\n",
    "    fig.update_yaxes(title_text=\"Revenue ($US Millions)\", row=2, col=1)\n",
    "    fig.update_layout(showlegend=False,\n",
    "    height=900,\n",
    "    title=stock,\n",
    "    xaxis_rangeslider_visible=True)\n",
    "    fig.show()"
   ]
  },
  {
   "cell_type": "code",
   "execution_count": 74,
   "metadata": {},
   "outputs": [],
   "source": [
    "#URL link to Tesla inc. (TSLA) history on Yahoo!Finance. Date range is set to the period of interest: start=\"2020-01-15\", end=\"2020-02-15\"\n",
    "url1 = \"https://finance.yahoo.com/quote/TSLA/history?period1=1579046400&period2=1581724800&interval=1d&filter=history&frequency=1d&includeAdjustedClose=true\"\n",
    "#URL link to GameStop Corp. (GME) history on Yahoo!Finance. Date range is set to the period of interest: \"2021-01-10\", end=\"2021-03-10\"\n",
    "url2 = \"https://finance.yahoo.com/quote/GME/history?period1=1610236800&period2=1615334400&interval=1d&filter=history&frequency=1d&includeAdjustedClose=true\"\n",
    "\n",
    "tsla_data = requests.get(url1, headers ={'User-Agent':'Mozilla/5.0 (Windows NT 10.0; Win64; x64) AppleWebKit/537.36 (KHTML, like Gecko) Chrome/91.0.4472.124 Safari/537.36'}).text\n",
    "gme_data = requests.get(url2, headers ={'User-Agent':'Mozilla/5.0 (Windows NT 10.0; Win64; x64) AppleWebKit/537.36 (KHTML, like Gecko) Chrome/91.0.4472.124 Safari/537.36'}).text\n",
    "\n",
    "#option to print and have a look at the data we scraped\n",
    "#print(tsla_data)\n",
    "#print(gme_data)"
   ]
  },
  {
   "cell_type": "code",
   "execution_count": 75,
   "metadata": {},
   "outputs": [],
   "source": [
    "#Converting the saved txt to BeautifulSoup objects for Easier navigation of the data\n",
    "tsla_soup = BeautifulSoup(tsla_data, \"html5lib\")\n",
    "gme_soup = BeautifulSoup(gme_data, \"html5lib\")"
   ]
  },
  {
   "cell_type": "markdown",
   "metadata": {},
   "source": [
    "Beautiful soup will store our html text as a data tree, making moving around the webpage easier\n",
    "\n",
    "Next we need to extract the data from the table on the webpage into a table in our code. We'll use pandas to build a DataFrame in which we'll keep the data. "
   ]
  },
  {
   "cell_type": "code",
   "execution_count": 76,
   "metadata": {},
   "outputs": [],
   "source": [
    "tsla_df = pd.DataFrame(columns= [\"Date\", \"Open\", \"High\", \"Low\", \"Close\", \"Volume\"])\n",
    "gme_df = pd.DataFrame(columns= [\"Date\", \"Open\", \"High\", \"Low\", \"Close\", \"Volume\"])"
   ]
  },
  {
   "cell_type": "markdown",
   "metadata": {},
   "source": [
    "We'll now execute a for loop over the data in the BeautifulSoup objects and extract the tabulated data. It'll then be transposed into our Dataframes"
   ]
  },
  {
   "cell_type": "code",
   "execution_count": 77,
   "metadata": {},
   "outputs": [
    {
     "data": {
      "text/html": [
       "<div>\n",
       "<style scoped>\n",
       "    .dataframe tbody tr th:only-of-type {\n",
       "        vertical-align: middle;\n",
       "    }\n",
       "\n",
       "    .dataframe tbody tr th {\n",
       "        vertical-align: top;\n",
       "    }\n",
       "\n",
       "    .dataframe thead th {\n",
       "        text-align: right;\n",
       "    }\n",
       "</style>\n",
       "<table border=\"1\" class=\"dataframe\">\n",
       "  <thead>\n",
       "    <tr style=\"text-align: right;\">\n",
       "      <th></th>\n",
       "      <th>Date</th>\n",
       "      <th>Open</th>\n",
       "      <th>High</th>\n",
       "      <th>Low</th>\n",
       "      <th>Close</th>\n",
       "      <th>Volume</th>\n",
       "      <th>Adj Close</th>\n",
       "    </tr>\n",
       "  </thead>\n",
       "  <tbody>\n",
       "    <tr>\n",
       "      <th>0</th>\n",
       "      <td>Mar 09, 2021</td>\n",
       "      <td>54.43</td>\n",
       "      <td>62.46</td>\n",
       "      <td>52.13</td>\n",
       "      <td>61.72</td>\n",
       "      <td>156,397,200</td>\n",
       "      <td>61.72</td>\n",
       "    </tr>\n",
       "    <tr>\n",
       "      <th>1</th>\n",
       "      <td>Mar 08, 2021</td>\n",
       "      <td>38.72</td>\n",
       "      <td>52.72</td>\n",
       "      <td>36.53</td>\n",
       "      <td>48.63</td>\n",
       "      <td>254,262,400</td>\n",
       "      <td>48.63</td>\n",
       "    </tr>\n",
       "    <tr>\n",
       "      <th>2</th>\n",
       "      <td>Mar 05, 2021</td>\n",
       "      <td>32.04</td>\n",
       "      <td>37.88</td>\n",
       "      <td>31.88</td>\n",
       "      <td>34.44</td>\n",
       "      <td>122,934,800</td>\n",
       "      <td>34.44</td>\n",
       "    </tr>\n",
       "    <tr>\n",
       "      <th>3</th>\n",
       "      <td>Mar 04, 2021</td>\n",
       "      <td>31.25</td>\n",
       "      <td>36.97</td>\n",
       "      <td>28.83</td>\n",
       "      <td>33.09</td>\n",
       "      <td>130,427,600</td>\n",
       "      <td>33.09</td>\n",
       "    </tr>\n",
       "    <tr>\n",
       "      <th>4</th>\n",
       "      <td>Mar 03, 2021</td>\n",
       "      <td>30.63</td>\n",
       "      <td>31.94</td>\n",
       "      <td>28.28</td>\n",
       "      <td>31.05</td>\n",
       "      <td>77,095,600</td>\n",
       "      <td>31.05</td>\n",
       "    </tr>\n",
       "    <tr>\n",
       "      <th>5</th>\n",
       "      <td>Mar 02, 2021</td>\n",
       "      <td>29.23</td>\n",
       "      <td>33.30</td>\n",
       "      <td>28.05</td>\n",
       "      <td>29.55</td>\n",
       "      <td>135,132,000</td>\n",
       "      <td>29.55</td>\n",
       "    </tr>\n",
       "    <tr>\n",
       "      <th>6</th>\n",
       "      <td>Mar 01, 2021</td>\n",
       "      <td>26.14</td>\n",
       "      <td>33.50</td>\n",
       "      <td>24.99</td>\n",
       "      <td>30.10</td>\n",
       "      <td>199,176,000</td>\n",
       "      <td>30.10</td>\n",
       "    </tr>\n",
       "    <tr>\n",
       "      <th>7</th>\n",
       "      <td>Feb 26, 2021</td>\n",
       "      <td>29.36</td>\n",
       "      <td>35.72</td>\n",
       "      <td>21.50</td>\n",
       "      <td>25.43</td>\n",
       "      <td>368,776,800</td>\n",
       "      <td>25.43</td>\n",
       "    </tr>\n",
       "    <tr>\n",
       "      <th>8</th>\n",
       "      <td>Feb 25, 2021</td>\n",
       "      <td>42.39</td>\n",
       "      <td>46.17</td>\n",
       "      <td>25.25</td>\n",
       "      <td>27.18</td>\n",
       "      <td>601,235,200</td>\n",
       "      <td>27.18</td>\n",
       "    </tr>\n",
       "    <tr>\n",
       "      <th>9</th>\n",
       "      <td>Feb 24, 2021</td>\n",
       "      <td>11.18</td>\n",
       "      <td>22.93</td>\n",
       "      <td>11.18</td>\n",
       "      <td>22.93</td>\n",
       "      <td>332,446,800</td>\n",
       "      <td>22.93</td>\n",
       "    </tr>\n",
       "    <tr>\n",
       "      <th>10</th>\n",
       "      <td>Feb 23, 2021</td>\n",
       "      <td>11.24</td>\n",
       "      <td>11.56</td>\n",
       "      <td>10.00</td>\n",
       "      <td>11.24</td>\n",
       "      <td>30,260,800</td>\n",
       "      <td>11.24</td>\n",
       "    </tr>\n",
       "    <tr>\n",
       "      <th>11</th>\n",
       "      <td>Feb 22, 2021</td>\n",
       "      <td>11.67</td>\n",
       "      <td>12.13</td>\n",
       "      <td>10.60</td>\n",
       "      <td>11.50</td>\n",
       "      <td>77,904,000</td>\n",
       "      <td>11.50</td>\n",
       "    </tr>\n",
       "    <tr>\n",
       "      <th>12</th>\n",
       "      <td>Feb 19, 2021</td>\n",
       "      <td>10.32</td>\n",
       "      <td>10.97</td>\n",
       "      <td>9.63</td>\n",
       "      <td>10.15</td>\n",
       "      <td>59,312,800</td>\n",
       "      <td>10.15</td>\n",
       "    </tr>\n",
       "    <tr>\n",
       "      <th>13</th>\n",
       "      <td>Feb 18, 2021</td>\n",
       "      <td>12.12</td>\n",
       "      <td>12.22</td>\n",
       "      <td>10.16</td>\n",
       "      <td>10.17</td>\n",
       "      <td>95,962,400</td>\n",
       "      <td>10.17</td>\n",
       "    </tr>\n",
       "    <tr>\n",
       "      <th>14</th>\n",
       "      <td>Feb 17, 2021</td>\n",
       "      <td>12.44</td>\n",
       "      <td>12.80</td>\n",
       "      <td>11.14</td>\n",
       "      <td>11.48</td>\n",
       "      <td>36,747,200</td>\n",
       "      <td>11.48</td>\n",
       "    </tr>\n",
       "    <tr>\n",
       "      <th>15</th>\n",
       "      <td>Feb 16, 2021</td>\n",
       "      <td>13.16</td>\n",
       "      <td>13.38</td>\n",
       "      <td>12.26</td>\n",
       "      <td>12.38</td>\n",
       "      <td>32,700,000</td>\n",
       "      <td>12.38</td>\n",
       "    </tr>\n",
       "    <tr>\n",
       "      <th>16</th>\n",
       "      <td>Feb 12, 2021</td>\n",
       "      <td>12.69</td>\n",
       "      <td>13.81</td>\n",
       "      <td>12.01</td>\n",
       "      <td>13.10</td>\n",
       "      <td>58,293,200</td>\n",
       "      <td>13.10</td>\n",
       "    </tr>\n",
       "    <tr>\n",
       "      <th>17</th>\n",
       "      <td>Feb 11, 2021</td>\n",
       "      <td>12.50</td>\n",
       "      <td>13.83</td>\n",
       "      <td>12.06</td>\n",
       "      <td>12.77</td>\n",
       "      <td>52,226,800</td>\n",
       "      <td>12.77</td>\n",
       "    </tr>\n",
       "    <tr>\n",
       "      <th>18</th>\n",
       "      <td>Feb 10, 2021</td>\n",
       "      <td>12.69</td>\n",
       "      <td>15.71</td>\n",
       "      <td>11.64</td>\n",
       "      <td>12.80</td>\n",
       "      <td>145,820,000</td>\n",
       "      <td>12.80</td>\n",
       "    </tr>\n",
       "    <tr>\n",
       "      <th>19</th>\n",
       "      <td>Feb 09, 2021</td>\n",
       "      <td>14.15</td>\n",
       "      <td>14.25</td>\n",
       "      <td>11.63</td>\n",
       "      <td>12.58</td>\n",
       "      <td>107,372,400</td>\n",
       "      <td>12.58</td>\n",
       "    </tr>\n",
       "    <tr>\n",
       "      <th>20</th>\n",
       "      <td>Feb 08, 2021</td>\n",
       "      <td>18.10</td>\n",
       "      <td>18.17</td>\n",
       "      <td>14.51</td>\n",
       "      <td>15.00</td>\n",
       "      <td>102,749,200</td>\n",
       "      <td>15.00</td>\n",
       "    </tr>\n",
       "    <tr>\n",
       "      <th>21</th>\n",
       "      <td>Feb 05, 2021</td>\n",
       "      <td>13.51</td>\n",
       "      <td>23.75</td>\n",
       "      <td>12.77</td>\n",
       "      <td>15.94</td>\n",
       "      <td>325,380,000</td>\n",
       "      <td>15.94</td>\n",
       "    </tr>\n",
       "    <tr>\n",
       "      <th>22</th>\n",
       "      <td>Feb 04, 2021</td>\n",
       "      <td>22.80</td>\n",
       "      <td>22.88</td>\n",
       "      <td>13.33</td>\n",
       "      <td>13.38</td>\n",
       "      <td>249,709,200</td>\n",
       "      <td>13.38</td>\n",
       "    </tr>\n",
       "    <tr>\n",
       "      <th>23</th>\n",
       "      <td>Feb 03, 2021</td>\n",
       "      <td>28.00</td>\n",
       "      <td>28.35</td>\n",
       "      <td>21.31</td>\n",
       "      <td>23.10</td>\n",
       "      <td>170,794,000</td>\n",
       "      <td>23.10</td>\n",
       "    </tr>\n",
       "    <tr>\n",
       "      <th>24</th>\n",
       "      <td>Feb 02, 2021</td>\n",
       "      <td>35.19</td>\n",
       "      <td>39.50</td>\n",
       "      <td>18.56</td>\n",
       "      <td>22.50</td>\n",
       "      <td>312,732,400</td>\n",
       "      <td>22.50</td>\n",
       "    </tr>\n",
       "    <tr>\n",
       "      <th>25</th>\n",
       "      <td>Feb 01, 2021</td>\n",
       "      <td>79.14</td>\n",
       "      <td>80.50</td>\n",
       "      <td>53.00</td>\n",
       "      <td>56.25</td>\n",
       "      <td>149,528,800</td>\n",
       "      <td>56.25</td>\n",
       "    </tr>\n",
       "    <tr>\n",
       "      <th>26</th>\n",
       "      <td>Jan 29, 2021</td>\n",
       "      <td>94.93</td>\n",
       "      <td>103.50</td>\n",
       "      <td>62.50</td>\n",
       "      <td>81.25</td>\n",
       "      <td>202,264,400</td>\n",
       "      <td>81.25</td>\n",
       "    </tr>\n",
       "    <tr>\n",
       "      <th>27</th>\n",
       "      <td>Jan 28, 2021</td>\n",
       "      <td>66.25</td>\n",
       "      <td>120.75</td>\n",
       "      <td>28.06</td>\n",
       "      <td>48.40</td>\n",
       "      <td>235,263,200</td>\n",
       "      <td>48.40</td>\n",
       "    </tr>\n",
       "    <tr>\n",
       "      <th>28</th>\n",
       "      <td>Jan 27, 2021</td>\n",
       "      <td>88.71</td>\n",
       "      <td>95.00</td>\n",
       "      <td>62.25</td>\n",
       "      <td>86.88</td>\n",
       "      <td>373,586,800</td>\n",
       "      <td>86.88</td>\n",
       "    </tr>\n",
       "    <tr>\n",
       "      <th>29</th>\n",
       "      <td>Jan 26, 2021</td>\n",
       "      <td>22.14</td>\n",
       "      <td>37.50</td>\n",
       "      <td>20.05</td>\n",
       "      <td>36.99</td>\n",
       "      <td>714,352,000</td>\n",
       "      <td>36.99</td>\n",
       "    </tr>\n",
       "    <tr>\n",
       "      <th>30</th>\n",
       "      <td>Jan 25, 2021</td>\n",
       "      <td>24.18</td>\n",
       "      <td>39.79</td>\n",
       "      <td>15.28</td>\n",
       "      <td>19.20</td>\n",
       "      <td>711,496,000</td>\n",
       "      <td>19.20</td>\n",
       "    </tr>\n",
       "    <tr>\n",
       "      <th>31</th>\n",
       "      <td>Jan 22, 2021</td>\n",
       "      <td>10.65</td>\n",
       "      <td>19.19</td>\n",
       "      <td>10.58</td>\n",
       "      <td>16.25</td>\n",
       "      <td>788,631,600</td>\n",
       "      <td>16.25</td>\n",
       "    </tr>\n",
       "    <tr>\n",
       "      <th>32</th>\n",
       "      <td>Jan 21, 2021</td>\n",
       "      <td>9.81</td>\n",
       "      <td>11.19</td>\n",
       "      <td>9.25</td>\n",
       "      <td>10.76</td>\n",
       "      <td>224,867,600</td>\n",
       "      <td>10.76</td>\n",
       "    </tr>\n",
       "    <tr>\n",
       "      <th>33</th>\n",
       "      <td>Jan 20, 2021</td>\n",
       "      <td>9.34</td>\n",
       "      <td>10.30</td>\n",
       "      <td>9.02</td>\n",
       "      <td>9.78</td>\n",
       "      <td>133,887,200</td>\n",
       "      <td>9.78</td>\n",
       "    </tr>\n",
       "    <tr>\n",
       "      <th>34</th>\n",
       "      <td>Jan 19, 2021</td>\n",
       "      <td>10.39</td>\n",
       "      <td>11.38</td>\n",
       "      <td>9.16</td>\n",
       "      <td>9.84</td>\n",
       "      <td>298,887,600</td>\n",
       "      <td>9.84</td>\n",
       "    </tr>\n",
       "    <tr>\n",
       "      <th>35</th>\n",
       "      <td>Jan 15, 2021</td>\n",
       "      <td>9.62</td>\n",
       "      <td>10.19</td>\n",
       "      <td>8.50</td>\n",
       "      <td>8.88</td>\n",
       "      <td>187,465,600</td>\n",
       "      <td>8.88</td>\n",
       "    </tr>\n",
       "    <tr>\n",
       "      <th>36</th>\n",
       "      <td>Jan 14, 2021</td>\n",
       "      <td>9.52</td>\n",
       "      <td>10.77</td>\n",
       "      <td>8.26</td>\n",
       "      <td>9.98</td>\n",
       "      <td>374,869,600</td>\n",
       "      <td>9.98</td>\n",
       "    </tr>\n",
       "    <tr>\n",
       "      <th>37</th>\n",
       "      <td>Jan 13, 2021</td>\n",
       "      <td>5.11</td>\n",
       "      <td>9.66</td>\n",
       "      <td>5.01</td>\n",
       "      <td>7.85</td>\n",
       "      <td>578,006,800</td>\n",
       "      <td>7.85</td>\n",
       "    </tr>\n",
       "    <tr>\n",
       "      <th>38</th>\n",
       "      <td>Jan 12, 2021</td>\n",
       "      <td>4.99</td>\n",
       "      <td>5.10</td>\n",
       "      <td>4.83</td>\n",
       "      <td>4.99</td>\n",
       "      <td>28,242,800</td>\n",
       "      <td>4.99</td>\n",
       "    </tr>\n",
       "    <tr>\n",
       "      <th>39</th>\n",
       "      <td>Jan 11, 2021</td>\n",
       "      <td>4.85</td>\n",
       "      <td>5.16</td>\n",
       "      <td>4.75</td>\n",
       "      <td>4.99</td>\n",
       "      <td>59,632,000</td>\n",
       "      <td>4.99</td>\n",
       "    </tr>\n",
       "  </tbody>\n",
       "</table>\n",
       "</div>"
      ],
      "text/plain": [
       "            Date   Open    High    Low  Close       Volume Adj Close\n",
       "0   Mar 09, 2021  54.43   62.46  52.13  61.72  156,397,200     61.72\n",
       "1   Mar 08, 2021  38.72   52.72  36.53  48.63  254,262,400     48.63\n",
       "2   Mar 05, 2021  32.04   37.88  31.88  34.44  122,934,800     34.44\n",
       "3   Mar 04, 2021  31.25   36.97  28.83  33.09  130,427,600     33.09\n",
       "4   Mar 03, 2021  30.63   31.94  28.28  31.05   77,095,600     31.05\n",
       "5   Mar 02, 2021  29.23   33.30  28.05  29.55  135,132,000     29.55\n",
       "6   Mar 01, 2021  26.14   33.50  24.99  30.10  199,176,000     30.10\n",
       "7   Feb 26, 2021  29.36   35.72  21.50  25.43  368,776,800     25.43\n",
       "8   Feb 25, 2021  42.39   46.17  25.25  27.18  601,235,200     27.18\n",
       "9   Feb 24, 2021  11.18   22.93  11.18  22.93  332,446,800     22.93\n",
       "10  Feb 23, 2021  11.24   11.56  10.00  11.24   30,260,800     11.24\n",
       "11  Feb 22, 2021  11.67   12.13  10.60  11.50   77,904,000     11.50\n",
       "12  Feb 19, 2021  10.32   10.97   9.63  10.15   59,312,800     10.15\n",
       "13  Feb 18, 2021  12.12   12.22  10.16  10.17   95,962,400     10.17\n",
       "14  Feb 17, 2021  12.44   12.80  11.14  11.48   36,747,200     11.48\n",
       "15  Feb 16, 2021  13.16   13.38  12.26  12.38   32,700,000     12.38\n",
       "16  Feb 12, 2021  12.69   13.81  12.01  13.10   58,293,200     13.10\n",
       "17  Feb 11, 2021  12.50   13.83  12.06  12.77   52,226,800     12.77\n",
       "18  Feb 10, 2021  12.69   15.71  11.64  12.80  145,820,000     12.80\n",
       "19  Feb 09, 2021  14.15   14.25  11.63  12.58  107,372,400     12.58\n",
       "20  Feb 08, 2021  18.10   18.17  14.51  15.00  102,749,200     15.00\n",
       "21  Feb 05, 2021  13.51   23.75  12.77  15.94  325,380,000     15.94\n",
       "22  Feb 04, 2021  22.80   22.88  13.33  13.38  249,709,200     13.38\n",
       "23  Feb 03, 2021  28.00   28.35  21.31  23.10  170,794,000     23.10\n",
       "24  Feb 02, 2021  35.19   39.50  18.56  22.50  312,732,400     22.50\n",
       "25  Feb 01, 2021  79.14   80.50  53.00  56.25  149,528,800     56.25\n",
       "26  Jan 29, 2021  94.93  103.50  62.50  81.25  202,264,400     81.25\n",
       "27  Jan 28, 2021  66.25  120.75  28.06  48.40  235,263,200     48.40\n",
       "28  Jan 27, 2021  88.71   95.00  62.25  86.88  373,586,800     86.88\n",
       "29  Jan 26, 2021  22.14   37.50  20.05  36.99  714,352,000     36.99\n",
       "30  Jan 25, 2021  24.18   39.79  15.28  19.20  711,496,000     19.20\n",
       "31  Jan 22, 2021  10.65   19.19  10.58  16.25  788,631,600     16.25\n",
       "32  Jan 21, 2021   9.81   11.19   9.25  10.76  224,867,600     10.76\n",
       "33  Jan 20, 2021   9.34   10.30   9.02   9.78  133,887,200      9.78\n",
       "34  Jan 19, 2021  10.39   11.38   9.16   9.84  298,887,600      9.84\n",
       "35  Jan 15, 2021   9.62   10.19   8.50   8.88  187,465,600      8.88\n",
       "36  Jan 14, 2021   9.52   10.77   8.26   9.98  374,869,600      9.98\n",
       "37  Jan 13, 2021   5.11    9.66   5.01   7.85  578,006,800      7.85\n",
       "38  Jan 12, 2021   4.99    5.10   4.83   4.99   28,242,800      4.99\n",
       "39  Jan 11, 2021   4.85    5.16   4.75   4.99   59,632,000      4.99"
      ]
     },
     "execution_count": 77,
     "metadata": {},
     "output_type": "execute_result"
    }
   ],
   "source": [
    "# First we isolate the body of the table which contains all the information\n",
    "# Then we loop through each row and find all the column values for each row\n",
    "for row in tsla_soup.find(\"tbody\").find_all('tr'):\n",
    "    col = row.find_all(\"td\")\n",
    "    date = col[0].text\n",
    "    Open = col[1].text\n",
    "    high = col[2].text\n",
    "    low = col[3].text\n",
    "    close = col[4].text\n",
    "    adj_close = col[5].text\n",
    "    volume = col[6].text\n",
    "    \n",
    "    # Finally we append the data of each row to the table\n",
    "    tsla_df = tsla_df.append({\"Date\":date, \"Open\":Open, \"High\":high, \"Low\":low, \"Close\":close, \"Adj Close\":adj_close, \"Volume\":volume}, ignore_index=True)\n",
    "    \n",
    "for row in gme_soup.find(\"tbody\").find_all('tr'):\n",
    "    col = row.find_all(\"td\")\n",
    "    date = col[0].text\n",
    "    Open = col[1].text\n",
    "    high = col[2].text\n",
    "    low = col[3].text\n",
    "    close = col[4].text\n",
    "    adj_close = col[5].text\n",
    "    volume = col[6].text\n",
    "    \n",
    "    # Finally we append the data of each row to the table\n",
    "    gme_df = gme_df.append({\"Date\":date, \"Open\":Open, \"High\":high, \"Low\":low, \"Close\":close, \"Adj Close\":adj_close, \"Volume\":volume}, ignore_index=True)\n",
    "gme_df    "
   ]
  },
  {
   "cell_type": "markdown",
   "metadata": {},
   "source": [
    "Now we have our data, we'll limit the data to the date ranges we're interested in. "
   ]
  },
  {
   "cell_type": "code",
   "execution_count": null,
   "metadata": {},
   "outputs": [],
   "source": []
  },
  {
   "cell_type": "code",
   "execution_count": 78,
   "metadata": {},
   "outputs": [
    {
     "name": "stderr",
     "output_type": "stream",
     "text": [
      "C:\\Users\\skrim\\Anaconda3\\lib\\site-packages\\matplotlib\\cbook\\__init__.py:1402: FutureWarning: Support for multi-dimensional indexing (e.g. `obj[:, None]`) is deprecated and will be removed in a future version.  Convert to a numpy array before indexing instead.\n",
      "  x[:, None]\n",
      "C:\\Users\\skrim\\Anaconda3\\lib\\site-packages\\matplotlib\\axes\\_base.py:276: FutureWarning: Support for multi-dimensional indexing (e.g. `obj[:, None]`) is deprecated and will be removed in a future version.  Convert to a numpy array before indexing instead.\n",
      "  x = x[:, np.newaxis]\n",
      "C:\\Users\\skrim\\Anaconda3\\lib\\site-packages\\matplotlib\\axes\\_base.py:278: FutureWarning: Support for multi-dimensional indexing (e.g. `obj[:, None]`) is deprecated and will be removed in a future version.  Convert to a numpy array before indexing instead.\n",
      "  y = y[:, np.newaxis]\n"
     ]
    },
    {
     "data": {
      "text/plain": [
       "[<matplotlib.lines.Line2D at 0x1882e494348>]"
      ]
     },
     "execution_count": 78,
     "metadata": {},
     "output_type": "execute_result"
    },
    {
     "data": {
      "image/png": "[encoded data removed]",
      "text/plain": [
       "<Figure size 2880x720 with 1 Axes>"
      ]
     },
     "metadata": {
      "needs_background": "light"
     },
     "output_type": "display_data"
    }
   ],
   "source": [
    "plt.figure(figsize=(40,10))\n",
    "plt.plot((gme_df[\"Date\"]), gme_df[\"Adj Close\"])"
   ]
  },
  {
   "cell_type": "markdown",
   "metadata": {},
   "source": [
    "### Requests only option"
   ]
  },
  {
   "cell_type": "markdown",
   "metadata": {},
   "source": [
    "Follwing the example given by Asep Saputra at the follwing link: https://medium.com/codestorm/scrape-yahoo-finance-using-pandas-d52f502b7289 we can achieve a similar result using only get requests. However, the returned object is not \"plot ready\" and requires a couple of extra modifications to allow us to visualise the data. Below, I've done this for the GameStop stock only. "
   ]
  },
  {
   "cell_type": "code",
   "execution_count": 27,
   "metadata": {},
   "outputs": [
    {
     "data": {
      "text/html": [
       "<div>\n",
       "<style scoped>\n",
       "    .dataframe tbody tr th:only-of-type {\n",
       "        vertical-align: middle;\n",
       "    }\n",
       "\n",
       "    .dataframe tbody tr th {\n",
       "        vertical-align: top;\n",
       "    }\n",
       "\n",
       "    .dataframe thead th {\n",
       "        text-align: right;\n",
       "    }\n",
       "</style>\n",
       "<table border=\"1\" class=\"dataframe\">\n",
       "  <thead>\n",
       "    <tr style=\"text-align: right;\">\n",
       "      <th></th>\n",
       "      <th>Date</th>\n",
       "      <th>Open</th>\n",
       "      <th>High</th>\n",
       "      <th>Low</th>\n",
       "      <th>Close*</th>\n",
       "      <th>Adj Close**</th>\n",
       "      <th>Volume</th>\n",
       "    </tr>\n",
       "  </thead>\n",
       "  <tbody>\n",
       "    <tr>\n",
       "      <th>0</th>\n",
       "      <td>Aug 04, 2023</td>\n",
       "      <td>20.95</td>\n",
       "      <td>21.89</td>\n",
       "      <td>20.89</td>\n",
       "      <td>20.98</td>\n",
       "      <td>20.98</td>\n",
       "      <td>2400500</td>\n",
       "    </tr>\n",
       "    <tr>\n",
       "      <th>1</th>\n",
       "      <td>Aug 03, 2023</td>\n",
       "      <td>20.88</td>\n",
       "      <td>21.18</td>\n",
       "      <td>20.74</td>\n",
       "      <td>20.93</td>\n",
       "      <td>20.93</td>\n",
       "      <td>1318700</td>\n",
       "    </tr>\n",
       "    <tr>\n",
       "      <th>2</th>\n",
       "      <td>Aug 02, 2023</td>\n",
       "      <td>21.15</td>\n",
       "      <td>21.15</td>\n",
       "      <td>20.34</td>\n",
       "      <td>20.83</td>\n",
       "      <td>20.83</td>\n",
       "      <td>2625800</td>\n",
       "    </tr>\n",
       "    <tr>\n",
       "      <th>3</th>\n",
       "      <td>Aug 01, 2023</td>\n",
       "      <td>21.95</td>\n",
       "      <td>22.00</td>\n",
       "      <td>21.26</td>\n",
       "      <td>21.50</td>\n",
       "      <td>21.50</td>\n",
       "      <td>2567100</td>\n",
       "    </tr>\n",
       "    <tr>\n",
       "      <th>4</th>\n",
       "      <td>Jul 31, 2023</td>\n",
       "      <td>22.00</td>\n",
       "      <td>22.38</td>\n",
       "      <td>21.85</td>\n",
       "      <td>22.20</td>\n",
       "      <td>22.20</td>\n",
       "      <td>1973400</td>\n",
       "    </tr>\n",
       "    <tr>\n",
       "      <th>...</th>\n",
       "      <td>...</td>\n",
       "      <td>...</td>\n",
       "      <td>...</td>\n",
       "      <td>...</td>\n",
       "      <td>...</td>\n",
       "      <td>...</td>\n",
       "      <td>...</td>\n",
       "    </tr>\n",
       "    <tr>\n",
       "      <th>96</th>\n",
       "      <td>Mar 17, 2023</td>\n",
       "      <td>16.62</td>\n",
       "      <td>16.72</td>\n",
       "      <td>15.92</td>\n",
       "      <td>16.60</td>\n",
       "      <td>16.60</td>\n",
       "      <td>5105500</td>\n",
       "    </tr>\n",
       "    <tr>\n",
       "      <th>97</th>\n",
       "      <td>Mar 16, 2023</td>\n",
       "      <td>16.00</td>\n",
       "      <td>16.77</td>\n",
       "      <td>15.53</td>\n",
       "      <td>16.76</td>\n",
       "      <td>16.76</td>\n",
       "      <td>4083000</td>\n",
       "    </tr>\n",
       "    <tr>\n",
       "      <th>98</th>\n",
       "      <td>Mar 15, 2023</td>\n",
       "      <td>16.50</td>\n",
       "      <td>16.69</td>\n",
       "      <td>15.70</td>\n",
       "      <td>15.95</td>\n",
       "      <td>15.95</td>\n",
       "      <td>4541500</td>\n",
       "    </tr>\n",
       "    <tr>\n",
       "      <th>99</th>\n",
       "      <td>Mar 14, 2023</td>\n",
       "      <td>17.37</td>\n",
       "      <td>17.41</td>\n",
       "      <td>16.40</td>\n",
       "      <td>16.91</td>\n",
       "      <td>16.91</td>\n",
       "      <td>3077400</td>\n",
       "    </tr>\n",
       "    <tr>\n",
       "      <th>100</th>\n",
       "      <td>*Close price adjusted for splits.**Adjusted cl...</td>\n",
       "      <td>*Close price adjusted for splits.**Adjusted cl...</td>\n",
       "      <td>*Close price adjusted for splits.**Adjusted cl...</td>\n",
       "      <td>*Close price adjusted for splits.**Adjusted cl...</td>\n",
       "      <td>*Close price adjusted for splits.**Adjusted cl...</td>\n",
       "      <td>*Close price adjusted for splits.**Adjusted cl...</td>\n",
       "      <td>*Close price adjusted for splits.**Adjusted cl...</td>\n",
       "    </tr>\n",
       "  </tbody>\n",
       "</table>\n",
       "<p>101 rows × 7 columns</p>\n",
       "</div>"
      ],
      "text/plain": [
       "                                                  Date  \\\n",
       "0                                         Aug 04, 2023   \n",
       "1                                         Aug 03, 2023   \n",
       "2                                         Aug 02, 2023   \n",
       "3                                         Aug 01, 2023   \n",
       "4                                         Jul 31, 2023   \n",
       "..                                                 ...   \n",
       "96                                        Mar 17, 2023   \n",
       "97                                        Mar 16, 2023   \n",
       "98                                        Mar 15, 2023   \n",
       "99                                        Mar 14, 2023   \n",
       "100  *Close price adjusted for splits.**Adjusted cl...   \n",
       "\n",
       "                                                  Open  \\\n",
       "0                                                20.95   \n",
       "1                                                20.88   \n",
       "2                                                21.15   \n",
       "3                                                21.95   \n",
       "4                                                22.00   \n",
       "..                                                 ...   \n",
       "96                                               16.62   \n",
       "97                                               16.00   \n",
       "98                                               16.50   \n",
       "99                                               17.37   \n",
       "100  *Close price adjusted for splits.**Adjusted cl...   \n",
       "\n",
       "                                                  High  \\\n",
       "0                                                21.89   \n",
       "1                                                21.18   \n",
       "2                                                21.15   \n",
       "3                                                22.00   \n",
       "4                                                22.38   \n",
       "..                                                 ...   \n",
       "96                                               16.72   \n",
       "97                                               16.77   \n",
       "98                                               16.69   \n",
       "99                                               17.41   \n",
       "100  *Close price adjusted for splits.**Adjusted cl...   \n",
       "\n",
       "                                                   Low  \\\n",
       "0                                                20.89   \n",
       "1                                                20.74   \n",
       "2                                                20.34   \n",
       "3                                                21.26   \n",
       "4                                                21.85   \n",
       "..                                                 ...   \n",
       "96                                               15.92   \n",
       "97                                               15.53   \n",
       "98                                               15.70   \n",
       "99                                               16.40   \n",
       "100  *Close price adjusted for splits.**Adjusted cl...   \n",
       "\n",
       "                                                Close*  \\\n",
       "0                                                20.98   \n",
       "1                                                20.93   \n",
       "2                                                20.83   \n",
       "3                                                21.50   \n",
       "4                                                22.20   \n",
       "..                                                 ...   \n",
       "96                                               16.60   \n",
       "97                                               16.76   \n",
       "98                                               15.95   \n",
       "99                                               16.91   \n",
       "100  *Close price adjusted for splits.**Adjusted cl...   \n",
       "\n",
       "                                           Adj Close**  \\\n",
       "0                                                20.98   \n",
       "1                                                20.93   \n",
       "2                                                20.83   \n",
       "3                                                21.50   \n",
       "4                                                22.20   \n",
       "..                                                 ...   \n",
       "96                                               16.60   \n",
       "97                                               16.76   \n",
       "98                                               15.95   \n",
       "99                                               16.91   \n",
       "100  *Close price adjusted for splits.**Adjusted cl...   \n",
       "\n",
       "                                                Volume  \n",
       "0                                              2400500  \n",
       "1                                              1318700  \n",
       "2                                              2625800  \n",
       "3                                              2567100  \n",
       "4                                              1973400  \n",
       "..                                                 ...  \n",
       "96                                             5105500  \n",
       "97                                             4083000  \n",
       "98                                             4541500  \n",
       "99                                             3077400  \n",
       "100  *Close price adjusted for splits.**Adjusted cl...  \n",
       "\n",
       "[101 rows x 7 columns]"
      ]
     },
     "execution_count": 27,
     "metadata": {},
     "output_type": "execute_result"
    }
   ],
   "source": [
    "def getdata(url):\n",
    " r = requests.get(url,headers ={'User-Agent':'Mozilla/5.0 (Windows NT 10.0; Win64; x64) AppleWebKit/537.36 (KHTML, like Gecko) Chrome/91.0.4472.124 Safari/537.36'})\n",
    " data = pd.read_html(r.text)\n",
    " return data\n",
    "\n",
    "historiscal_url= f'https://finance.yahoo.com/quote/GME/history?p=GME'\n",
    "historiscal_data = getdata(historiscal_url)\n",
    "data = historiscal_data[0]\n",
    "data"
   ]
  },
  {
   "cell_type": "markdown",
   "metadata": {},
   "source": [
    "#### There's unwanted data at the bottom, so we'll remove that! "
   ]
  },
  {
   "cell_type": "code",
   "execution_count": 28,
   "metadata": {},
   "outputs": [
    {
     "data": {
      "text/html": [
       "<div>\n",
       "<style scoped>\n",
       "    .dataframe tbody tr th:only-of-type {\n",
       "        vertical-align: middle;\n",
       "    }\n",
       "\n",
       "    .dataframe tbody tr th {\n",
       "        vertical-align: top;\n",
       "    }\n",
       "\n",
       "    .dataframe thead th {\n",
       "        text-align: right;\n",
       "    }\n",
       "</style>\n",
       "<table border=\"1\" class=\"dataframe\">\n",
       "  <thead>\n",
       "    <tr style=\"text-align: right;\">\n",
       "      <th></th>\n",
       "      <th>Date</th>\n",
       "      <th>Open</th>\n",
       "      <th>High</th>\n",
       "      <th>Low</th>\n",
       "      <th>Close*</th>\n",
       "      <th>Adj Close**</th>\n",
       "      <th>Volume</th>\n",
       "    </tr>\n",
       "  </thead>\n",
       "  <tbody>\n",
       "    <tr>\n",
       "      <th>0</th>\n",
       "      <td>Aug 04, 2023</td>\n",
       "      <td>20.95</td>\n",
       "      <td>21.89</td>\n",
       "      <td>20.89</td>\n",
       "      <td>20.98</td>\n",
       "      <td>20.98</td>\n",
       "      <td>2400500</td>\n",
       "    </tr>\n",
       "    <tr>\n",
       "      <th>1</th>\n",
       "      <td>Aug 03, 2023</td>\n",
       "      <td>20.88</td>\n",
       "      <td>21.18</td>\n",
       "      <td>20.74</td>\n",
       "      <td>20.93</td>\n",
       "      <td>20.93</td>\n",
       "      <td>1318700</td>\n",
       "    </tr>\n",
       "    <tr>\n",
       "      <th>2</th>\n",
       "      <td>Aug 02, 2023</td>\n",
       "      <td>21.15</td>\n",
       "      <td>21.15</td>\n",
       "      <td>20.34</td>\n",
       "      <td>20.83</td>\n",
       "      <td>20.83</td>\n",
       "      <td>2625800</td>\n",
       "    </tr>\n",
       "    <tr>\n",
       "      <th>3</th>\n",
       "      <td>Aug 01, 2023</td>\n",
       "      <td>21.95</td>\n",
       "      <td>22.00</td>\n",
       "      <td>21.26</td>\n",
       "      <td>21.50</td>\n",
       "      <td>21.50</td>\n",
       "      <td>2567100</td>\n",
       "    </tr>\n",
       "    <tr>\n",
       "      <th>4</th>\n",
       "      <td>Jul 31, 2023</td>\n",
       "      <td>22.00</td>\n",
       "      <td>22.38</td>\n",
       "      <td>21.85</td>\n",
       "      <td>22.20</td>\n",
       "      <td>22.20</td>\n",
       "      <td>1973400</td>\n",
       "    </tr>\n",
       "    <tr>\n",
       "      <th>...</th>\n",
       "      <td>...</td>\n",
       "      <td>...</td>\n",
       "      <td>...</td>\n",
       "      <td>...</td>\n",
       "      <td>...</td>\n",
       "      <td>...</td>\n",
       "      <td>...</td>\n",
       "    </tr>\n",
       "    <tr>\n",
       "      <th>95</th>\n",
       "      <td>Mar 20, 2023</td>\n",
       "      <td>16.65</td>\n",
       "      <td>17.27</td>\n",
       "      <td>16.25</td>\n",
       "      <td>16.87</td>\n",
       "      <td>16.87</td>\n",
       "      <td>4463700</td>\n",
       "    </tr>\n",
       "    <tr>\n",
       "      <th>96</th>\n",
       "      <td>Mar 17, 2023</td>\n",
       "      <td>16.62</td>\n",
       "      <td>16.72</td>\n",
       "      <td>15.92</td>\n",
       "      <td>16.60</td>\n",
       "      <td>16.60</td>\n",
       "      <td>5105500</td>\n",
       "    </tr>\n",
       "    <tr>\n",
       "      <th>97</th>\n",
       "      <td>Mar 16, 2023</td>\n",
       "      <td>16.00</td>\n",
       "      <td>16.77</td>\n",
       "      <td>15.53</td>\n",
       "      <td>16.76</td>\n",
       "      <td>16.76</td>\n",
       "      <td>4083000</td>\n",
       "    </tr>\n",
       "    <tr>\n",
       "      <th>98</th>\n",
       "      <td>Mar 15, 2023</td>\n",
       "      <td>16.50</td>\n",
       "      <td>16.69</td>\n",
       "      <td>15.70</td>\n",
       "      <td>15.95</td>\n",
       "      <td>15.95</td>\n",
       "      <td>4541500</td>\n",
       "    </tr>\n",
       "    <tr>\n",
       "      <th>99</th>\n",
       "      <td>Mar 14, 2023</td>\n",
       "      <td>17.37</td>\n",
       "      <td>17.41</td>\n",
       "      <td>16.40</td>\n",
       "      <td>16.91</td>\n",
       "      <td>16.91</td>\n",
       "      <td>3077400</td>\n",
       "    </tr>\n",
       "  </tbody>\n",
       "</table>\n",
       "<p>100 rows × 7 columns</p>\n",
       "</div>"
      ],
      "text/plain": [
       "            Date   Open   High    Low Close* Adj Close**   Volume\n",
       "0   Aug 04, 2023  20.95  21.89  20.89  20.98       20.98  2400500\n",
       "1   Aug 03, 2023  20.88  21.18  20.74  20.93       20.93  1318700\n",
       "2   Aug 02, 2023  21.15  21.15  20.34  20.83       20.83  2625800\n",
       "3   Aug 01, 2023  21.95  22.00  21.26  21.50       21.50  2567100\n",
       "4   Jul 31, 2023  22.00  22.38  21.85  22.20       22.20  1973400\n",
       "..           ...    ...    ...    ...    ...         ...      ...\n",
       "95  Mar 20, 2023  16.65  17.27  16.25  16.87       16.87  4463700\n",
       "96  Mar 17, 2023  16.62  16.72  15.92  16.60       16.60  5105500\n",
       "97  Mar 16, 2023  16.00  16.77  15.53  16.76       16.76  4083000\n",
       "98  Mar 15, 2023  16.50  16.69  15.70  15.95       15.95  4541500\n",
       "99  Mar 14, 2023  17.37  17.41  16.40  16.91       16.91  3077400\n",
       "\n",
       "[100 rows x 7 columns]"
      ]
     },
     "execution_count": 28,
     "metadata": {},
     "output_type": "execute_result"
    }
   ],
   "source": [
    "data = data.iloc[:-1 , :]\n",
    "data"
   ]
  },
  {
   "cell_type": "markdown",
   "metadata": {},
   "source": [
    "#### Now that's removed, we'll check the data types stored in the Dataframe"
   ]
  },
  {
   "cell_type": "code",
   "execution_count": 29,
   "metadata": {},
   "outputs": [
    {
     "data": {
      "text/plain": [
       "Date           object\n",
       "Open           object\n",
       "High           object\n",
       "Low            object\n",
       "Close*         object\n",
       "Adj Close**    object\n",
       "Volume         object\n",
       "dtype: object"
      ]
     },
     "execution_count": 29,
     "metadata": {},
     "output_type": "execute_result"
    }
   ],
   "source": [
    "data = data[data[\"Open\"].str.contains(\"Dividend\") == False]\n",
    "data.dtypes"
   ]
  },
  {
   "cell_type": "markdown",
   "metadata": {},
   "source": [
    "#### As you can see, they're stored as objects. Not ideal. We ideally want these as floats! Let's change them below."
   ]
  },
  {
   "cell_type": "code",
   "execution_count": 30,
   "metadata": {},
   "outputs": [
    {
     "data": {
      "text/plain": [
       "Date           datetime64[ns]\n",
       "Open                  float64\n",
       "High                  float64\n",
       "Low                   float64\n",
       "Close*                float64\n",
       "Adj Close**           float64\n",
       "Volume                float64\n",
       "dtype: object"
      ]
     },
     "execution_count": 30,
     "metadata": {},
     "output_type": "execute_result"
    }
   ],
   "source": [
    "data['Date'] = pd.to_datetime(data['Date'])\n",
    "numeric_columns = list(data.columns)[1::]\n",
    "for column_name in numeric_columns:\n",
    "    data[column_name] = data[column_name].str.replace(',', '')\n",
    "    data[column_name] = data[column_name].astype(np.float64)\n",
    "data.dtypes"
   ]
  },
  {
   "cell_type": "markdown",
   "metadata": {},
   "source": [
    "#### Now we can proceed to plot the data if we wish!"
   ]
  },
  {
   "cell_type": "markdown",
   "metadata": {},
   "source": [
    "# Using yfinance"
   ]
  },
  {
   "cell_type": "markdown",
   "metadata": {},
   "source": [
    "Alternatively we can use the yfinance API to attain the data using the Ticker method. This is a little less fiddly, but it is depenedent on all packages being up to date and Yahoo!Finance not massively overhauling their back end!"
   ]
  },
  {
   "cell_type": "code",
   "execution_count": 16,
   "metadata": {},
   "outputs": [],
   "source": [
    "#Using yfinance we can directly access information about the companies in a very pythonic fashion!\n",
    "tsla= yf.Ticker(\"TSLA\")\n",
    "gme= yf.Ticker(\"GME\")\n",
    "\n",
    "#Uncomment one at a time to get some information on the companies\n",
    "#tsla.info\n",
    "#gme.info"
   ]
  },
  {
   "cell_type": "markdown",
   "metadata": {},
   "source": [
    "From the Ticker we can plot the historcial varience of the stock price of each of these companies. We'll plot up the data from the periods of interest, for Gamestop this will be the period from the 10th of January 2021 (suggested start date from Wikipedia: https://en.wikipedia.org/wiki/GameStop_short_squeeze) through to the 10th of March 2021. "
   ]
  },
  {
   "cell_type": "code",
   "execution_count": 17,
   "metadata": {},
   "outputs": [],
   "source": [
    "gme_short_range = gme.history(start=\"2021-01-10\", end=\"2021-03-10\")\n",
    "tsla_short_range = tsla.history(start=\"2020-01-15\", end=\"2020-02-15\")\n",
    "#it's useful here to reset the indices to make plotting a bit easier\n",
    "tsla_short_range.reset_index(inplace=True)\n",
    "gme_short_range.reset_index(inplace=True)\n",
    "#Uncomment to see the table heads\n",
    "#tsla_short_range.head()\n",
    "#gme_short_range.head()"
   ]
  },
  {
   "cell_type": "markdown",
   "metadata": {},
   "source": [
    "We can now plot the data over these time periods and see the rise in the stock prices"
   ]
  },
  {
   "cell_type": "code",
   "execution_count": 82,
   "metadata": {},
   "outputs": [
    {
     "data": {
      "text/plain": [
       "<matplotlib.axes._subplots.AxesSubplot at 0x1fb9265a8c8>"
      ]
     },
     "execution_count": 82,
     "metadata": {},
     "output_type": "execute_result"
    },
    {
     "data": {
      "image/png": "[encoded data removed]",
      "text/plain": [
       "<Figure size 432x288 with 1 Axes>"
      ]
     },
     "metadata": {
      "needs_background": "light"
     },
     "output_type": "display_data"
    }
   ],
   "source": [
    "gme_short_range.plot(x=\"Date\", y=\"Open\")\n",
    "\n",
    "#Matplotlib option\n",
    "#plt.plot(gme_short_range[\"Date\"], gme_short_range[\"Open\"])"
   ]
  },
  {
   "cell_type": "code",
   "execution_count": 19,
   "metadata": {},
   "outputs": [
    {
     "data": {
      "text/plain": [
       "<matplotlib.axes._subplots.AxesSubplot at 0x1fb8fae8188>"
      ]
     },
     "execution_count": 19,
     "metadata": {},
     "output_type": "execute_result"
    },
    {
     "data": {
      "image/png": "[encoded data removed]",
      "text/plain": [
       "<Figure size 432x288 with 1 Axes>"
      ]
     },
     "metadata": {
      "needs_background": "light"
     },
     "output_type": "display_data"
    }
   ],
   "source": [
    "tsla_short_range.plot(x=\"Date\", y=\"Open\")\n",
    "#Matplotlib option\n",
    "#plt.plot(tsla_short_range[\"Date\"], tsla_short_range[\"Open\"])"
   ]
  },
  {
   "cell_type": "markdown",
   "metadata": {},
   "source": [
    "# Current Prices"
   ]
  },
  {
   "cell_type": "markdown",
   "metadata": {},
   "source": [
    "Now we've had a look at these intersting periods, lets have a look at the current stock prices for these two companies. We'll again use yfinance to do this, as there's a handy inbuilt \"period\" argument we can use to display the most recent data from a time span of our choosing. In the example below, we'll have a look at the last three months.  "
   ]
  },
  {
   "cell_type": "code",
   "execution_count": 21,
   "metadata": {},
   "outputs": [],
   "source": [
    "gme_current = gme.history(period=\"3mo\")\n",
    "tsla_current = tsla.history(period=\"3mo\")\n",
    "tsla_current.reset_index(inplace=True)\n",
    "gme_current.reset_index(inplace=True)"
   ]
  },
  {
   "cell_type": "code",
   "execution_count": 22,
   "metadata": {},
   "outputs": [
    {
     "data": {
      "text/plain": [
       "<matplotlib.axes._subplots.AxesSubplot at 0x1fb90bca548>"
      ]
     },
     "execution_count": 22,
     "metadata": {},
     "output_type": "execute_result"
    },
    {
     "data": {
      "image/png": "[encoded data removed]",
      "text/plain": [
       "<Figure size 432x288 with 1 Axes>"
      ]
     },
     "metadata": {
      "needs_background": "light"
     },
     "output_type": "display_data"
    }
   ],
   "source": [
    "gme_current.plot(x=\"Date\", y=\"Open\")"
   ]
  },
  {
   "cell_type": "code",
   "execution_count": 23,
   "metadata": {},
   "outputs": [
    {
     "data": {
      "text/plain": [
       "<matplotlib.axes._subplots.AxesSubplot at 0x1fb90c32a48>"
      ]
     },
     "execution_count": 23,
     "metadata": {},
     "output_type": "execute_result"
    },
    {
     "data": {
      "image/png": "[encoded data removed]",
      "text/plain": [
       "<Figure size 432x288 with 1 Axes>"
      ]
     },
     "metadata": {
      "needs_background": "light"
     },
     "output_type": "display_data"
    }
   ],
   "source": [
    "tsla_current.plot(x=\"Date\", y=\"Open\")"
   ]
  },
  {
   "cell_type": "markdown",
   "metadata": {},
   "source": [
    "We're also going to print the maximum and minimum values attained in the time frame we have selected"
   ]
  },
  {
   "cell_type": "code",
   "execution_count": 24,
   "metadata": {},
   "outputs": [
    {
     "name": "stdout",
     "output_type": "stream",
     "text": [
      "Highest open price for Tesla in the last 3 months: $ 278.82000732421875\n",
      "Lowest open price for Tesla in the last 3 months: $ 152.63999938964844\n",
      "Highest open price for Gamestop in the last 3 months: $ 26.719999313354492\n",
      "Lowest open price for Gamestop in the last 3 months: $ 18.450000762939453\n"
     ]
    }
   ],
   "source": [
    "print(\"Highest open price for Tesla in the last 3 months: $\", tsla_current[\"Open\"].max())\n",
    "print(\"Lowest open price for Tesla in the last 3 months: $\", tsla_current[\"Open\"].min())\n",
    "print(\"Highest open price for Gamestop in the last 3 months: $\", gme_current[\"Open\"].max())\n",
    "print(\"Lowest open price for Gamestop in the last 3 months: $\", gme_current[\"Open\"].min())\n"
   ]
  },
  {
   "cell_type": "markdown",
   "metadata": {},
   "source": [
    "We can also do some comparisons between the rows of data. Below, we're observing how the open price of the stock compare to the previous day using the .diff() method provided by pandas. We can then plot the data and observe the overall trend in open prices over the past period"
   ]
  },
  {
   "cell_type": "code",
   "execution_count": 66,
   "metadata": {},
   "outputs": [
    {
     "data": {
      "text/plain": [
       "<matplotlib.axes._subplots.AxesSubplot at 0x1fb9267c208>"
      ]
     },
     "execution_count": 66,
     "metadata": {},
     "output_type": "execute_result"
    },
    {
     "data": {
      "image/png": "[encoded data removed]",
      "text/plain": [
       "<Figure size 432x288 with 1 Axes>"
      ]
     },
     "metadata": {
      "needs_background": "light"
     },
     "output_type": "display_data"
    }
   ],
   "source": [
    "tsla_current['delta_opens'] = tsla_current.Open.diff()\n",
    "tsla_current.plot(x=\"Date\", y=\"delta_opens\")"
   ]
  },
  {
   "cell_type": "code",
   "execution_count": 65,
   "metadata": {},
   "outputs": [
    {
     "data": {
      "text/plain": [
       "<matplotlib.axes._subplots.AxesSubplot at 0x1fb9246dec8>"
      ]
     },
     "execution_count": 65,
     "metadata": {},
     "output_type": "execute_result"
    },
    {
     "data": {
      "image/png": "[encoded data removed]",
      "text/plain": [
       "<Figure size 432x288 with 1 Axes>"
      ]
     },
     "metadata": {
      "needs_background": "light"
     },
     "output_type": "display_data"
    }
   ],
   "source": [
    "gme_current[\"delta_opens\"]= gme_current.Open.diff()\n",
    "gme_current.plot(x=\"Date\", y=\"delta_opens\")"
   ]
  },
  {
   "cell_type": "markdown",
   "metadata": {},
   "source": [
    "https://blog.jovian.com/web-scraping-yahoo-finance-using-python-7c4612fab70c#49a4\n",
    "https://stackoverflow.com/questions/63400380/how-to-extract-a-table-from-yahoo-finance\n",
    "https://medium.com/codestorm/scrape-yahoo-finance-using-pandas-d52f502b7289"
   ]
  }
 ],
 "metadata": {
  "kernelspec": {
   "display_name": "Python 3",
   "language": "python",
   "name": "python3"
  },
  "language_info": {
   "codemirror_mode": {
    "name": "ipython",
    "version": 3
   },
   "file_extension": ".py",
   "mimetype": "text/x-python",
   "name": "python",
   "nbconvert_exporter": "python",
   "pygments_lexer": "ipython3",
   "version": "3.7.4"
  }
 },
 "nbformat": 4,
 "nbformat_minor": 2
}
